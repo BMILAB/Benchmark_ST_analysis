{
 "cells": [
  {
   "cell_type": "code",
   "execution_count": null,
   "metadata": {
    "collapsed": true
   },
   "outputs": [],
   "source": []
  },
  {
   "cell_type": "code",
   "execution_count": 1,
   "outputs": [],
   "source": [
    "import os\n",
    "import torch\n",
    "import pandas as pd\n",
    "from sklearn.metrics.cluster import adjusted_rand_score,normalized_mutual_info_score,adjusted_mutual_info_score,silhouette_score\n",
    "import numpy as np\n",
    "import psutil,time,tracemalloc\n",
    "##Note: To call the mclust clustering algorithm in the R package, make sure that mclust is installed in R and that rpy2 can be connected successfully\n",
    "os.environ[\"R_HOME\"] = r\"D:\\R-4.3.1\"\n",
    "os.environ[\"PATH\"]   = r\"D:\\R-4.3.1\\bin\\x64\" + \";\" + os.environ[\"PATH\"]\n",
    "\n",
    "\n",
    "def eval_model(pred, labels=None):\n",
    "    if labels is not None:\n",
    "        label_df = pd.DataFrame({\"True\": labels, \"Pred\": pred}).dropna()\n",
    "        # label_df = pd.DataFrame({\"True\": labels, \"Pred\": pred}).dropna()\n",
    "        # completeness = completeness_score(label_df[\"True\"], label_df[\"Pred\"])\n",
    "        # hm = homogeneity_score(label_df[\"True\"], label_df[\"Pred\"])\n",
    "        ari = adjusted_rand_score(label_df[\"True\"], label_df[\"Pred\"])\n",
    "        nmi = normalized_mutual_info_score(label_df[\"True\"], label_df[\"Pred\"])\n",
    "        ami=adjusted_mutual_info_score(label_df[\"True\"], label_df[\"Pred\"])\n",
    "    return  ari,nmi,ami"
   ],
   "metadata": {
    "collapsed": false
   }
  },
  {
   "cell_type": "code",
   "execution_count": 1,
   "outputs": [],
   "source": [],
   "metadata": {
    "collapsed": false
   }
  },
  {
   "cell_type": "code",
   "execution_count": 2,
   "outputs": [],
   "source": [
    "\n",
    "def run_GraphST(adata, dataset, random_seed = np.random.randint(100), device=torch.device('cuda:0' if torch.cuda.is_available() else 'cpu') ):\n",
    "\n",
    "    from GraphST_v1 import GraphST\n",
    "    from utils import clustering\n",
    "\n",
    "    model = GraphST.GraphST(adata, device=device,epochs=600, random_seed=random_seed)\n",
    "    adata = model.train()\n",
    "    n_clusters = len(set(adata.obs[\"ground_truth\"].dropna()))\n",
    "    # set radius to specify the number of neighbors considered during refinement\n",
    "    radius = 50 # ### default radius = 50\n",
    "    adata.obsm[\"embedding\"] = adata.obsm[\"emb\"]\n",
    "    clustering(adata, n_clusters, radius=radius, method=\"mclust\",refinement=False)\n",
    "    ari, nmi, ami  = eval_model(adata.obs['domain'], adata.obs['ground_truth'])\n",
    "    SC = silhouette_score(adata.obsm[\"embedding\"], adata.obs['domain'])\n",
    "    used_adata = adata[adata.obs[\"ground_truth\"].notna()]\n",
    "\n",
    "    clustering(adata, n_clusters, radius=radius, method=\"mclust\", refinement=True)\n",
    "    ari_r, nmi_r, ami_r = eval_model(adata.obs['domain'], adata.obs['ground_truth'])\n",
    "    SC_r = silhouette_score(adata.obsm[\"embedding\"], adata.obs['domain'])\n",
    "\n",
    "    used_adata = adata[adata.obs[\"ground_truth\"].notna()]\n",
    "\n",
    "    res = {}\n",
    "    res[\"dataset\"] = dataset\n",
    "    res[\"ari\"] = ari\n",
    "    res[\"nmi\"] = nmi\n",
    "    res[\"ami\"] = ami\n",
    "    res[\"sc\"] = SC\n",
    "\n",
    "    res[\"nmi_r\"] = nmi_r\n",
    "    res[\"ari_r\"] = ari_r\n",
    "    res[\"ami_r\"] = ami_r\n",
    "    res[\"sc_r\"] = SC_r\n",
    "    adata.obs[\"pred_label\"] = adata.obs['domain']\n",
    "    return res, adata\n"
   ],
   "metadata": {
    "collapsed": false
   }
  },
  {
   "cell_type": "code",
   "execution_count": 3,
   "outputs": [
    {
     "name": "stdout",
     "output_type": "stream",
     "text": [
      "Current memory usage_end:：0.0000 GB\n",
      "time: 0.0000 s\n",
      "memory blocks peak:    0.0000 GB\n",
      "load DLPFC dataset:\n"
     ]
    },
    {
     "name": "stderr",
     "output_type": "stream",
     "text": [
      "D:\\Anaconda_install\\envs\\STAGATE\\lib\\site-packages\\anndata\\_core\\anndata.py:1830: UserWarning: Variable names are not unique. To make them unique, call `.var_names_make_unique`.\n",
      "  utils.warn_names_duplicates(\"var\")\n",
      "D:\\Anaconda_install\\envs\\STAGATE\\lib\\site-packages\\ot\\backend.py:2998: UserWarning: To use TensorflowBackend, you need to activate the tensorflow numpy API. You can activate it by running: \n",
      "from tensorflow.python.ops.numpy_ops import np_config\n",
      "np_config.enable_numpy_behavior()\n",
      "  register_backend(TensorflowBackend())\n"
     ]
    },
    {
     "name": "stdout",
     "output_type": "stream",
     "text": [
      "Edge count： 10917\n",
      "Average number of spot： 3.0\n",
      "get Top2000HVG genes，Zero radio： 0.8409240175872492\n",
      "Begin to train ST data...\n"
     ]
    },
    {
     "name": "stderr",
     "output_type": "stream",
     "text": [
      "100%|██████████| 600/600 [00:21<00:00, 28.49it/s]\n"
     ]
    },
    {
     "name": "stdout",
     "output_type": "stream",
     "text": [
      "Optimization finished for ST data!\n",
      "begin mclust clustering\n"
     ]
    },
    {
     "name": "stderr",
     "output_type": "stream",
     "text": [
      "R[write to console]:                    __           __ \n",
      "   ____ ___  _____/ /_  _______/ /_\n",
      "  / __ `__ \\/ ___/ / / / / ___/ __/\n",
      " / / / / / / /__/ / /_/ (__  ) /_  \n",
      "/_/ /_/ /_/\\___/_/\\__,_/____/\\__/   version 6.0.0\n",
      "Type 'citation(\"mclust\")' for citing this R package in publications.\n",
      "\n"
     ]
    },
    {
     "name": "stdout",
     "output_type": "stream",
     "text": [
      "fitting ...\n",
      "  |======================================================================| 100%\n",
      "mclust finished： 4.411609888076782\n",
      "begin mclust clustering\n",
      "fitting ...\n",
      "  |======================================================================| 100%\n",
      "mclust finished： 3.156996488571167\n",
      "Current memory usage_end:：0.3446 GB\n",
      "time: 42.4082 s\n",
      "memory blocks peak:    0.9602 GB\n",
      "  dataset       ari       nmi       ami        sc     nmi_r    ari_r  \\\n",
      "0  151673  0.590827  0.698313  0.697499  0.082565  0.727536  0.62527   \n",
      "\n",
      "      ami_r      sc_r       time      Memo  Memo_peak  round  \n",
      "0  0.726798  0.072619  42.408249  0.344593   0.960152      1  \n",
      "              ari       nmi       ami        sc     nmi_r    ari_r     ami_r  \\\n",
      "dataset                                                                        \n",
      "151673   0.590827  0.698313  0.697499  0.082565  0.727536  0.62527  0.726798   \n",
      "\n",
      "             sc_r       time      Memo  Memo_peak  round  \n",
      "dataset                                                   \n",
      "151673   0.072619  42.408249  0.344593   0.960152      1  \n"
     ]
    }
   ],
   "source": [
    "import sys\n",
    "sys.path.append('../')\n",
    "import utils_for_all as usa  ##Call a unified data reading function to avoid repetitive data input in each method\n",
    "if __name__ == '__main__':\n",
    "\n",
    "  Dataset=[\"ST_Hippocampus_2\",'SlideV2_mouse_embryo_E8.5','151673',\"SeqFish\",\"STARmap\",\"Stereo\",\"Mouse_brain\",\"Breast_cancer\",\"PDAC\"]\n",
    "  Dataset_test=['151673']\n",
    "for dataset in Dataset_test:\n",
    "    if dataset.startswith('15'):\n",
    "        save_data_path = f'../../Output/GraphST/DLPFC/{dataset}/'\n",
    "    else:\n",
    "        save_data_path = f'../../Output/GraphST/{dataset}/'\n",
    "    if not os.path.exists( save_data_path):\n",
    "        os.makedirs(save_data_path)\n",
    "\n",
    "    adata, _ = usa.get_adata(dataset, data_path='../../Dataset/')\n",
    "    adata.var_names_make_unique()\n",
    "\n",
    "    best_ari = 0\n",
    "    results=pd.DataFrame()\n",
    "    for i in range(1):\n",
    "        random_seed = 0\n",
    "        start = time.time()\n",
    "        tracemalloc.start()\n",
    "        start_MB = psutil.Process(os.getpid()).memory_info().rss / 1024 / 1024 / 1024\n",
    "\n",
    "        res, adata_h5= run_GraphST(adata.copy(), dataset, random_seed=random_seed)\n",
    "\n",
    "        end = time.time()\n",
    "        end_MB = psutil.Process(os.getpid()).memory_info().rss / 1024 / 1024 / 1024\n",
    "        uesd_time = end - start\n",
    "        used_memo = end_MB - start_MB\n",
    "        current, peak = tracemalloc.get_traced_memory()  #\n",
    "        tracemalloc.stop()\n",
    "        peak = peak / 1024.0 / 1024.0 / 1024.0\n",
    "        print(u'Current memory usage_end:：%.4f GB' % used_memo)\n",
    "        print('time: {:.4f} s'.format(uesd_time))\n",
    "        print('memory blocks peak:{:>10.4f} GB'.format(peak))\n",
    "        tracemalloc.clear_traces()\n",
    "\n",
    "        res[\"time\"] = uesd_time\n",
    "        res[\"Memo\"] = used_memo\n",
    "        res[\"Memo_peak\"] = peak\n",
    "        res[\"round\"] = i+1\n",
    "\n",
    "        results = results._append(res, ignore_index=True)\n",
    "\n",
    "    print(results.head())\n",
    "    results.to_csv(save_data_path + \"/{}_result.csv\".format(dataset), header=True)\n",
    "    adata_h5.write_h5ad(save_data_path + str(dataset) + \".h5ad\")\n",
    "    results.to_csv(f'{save_data_path}{dataset}_result.csv', header=True)\n",
    "    results.set_index('dataset', inplace=True)\n",
    "    print(results.head())\n",
    "    res_mean = results.mean()\n",
    "    res_mean.to_csv(f'{save_data_path}{dataset}_mean.csv', header=True)\n",
    "    res_std = results.std()\n",
    "    res_std.to_csv(f'{save_data_path}{dataset}_std.csv', header=True)\n",
    "    res_median = results.median()\n",
    "    res_median.to_csv(f'{save_data_path}{dataset}_median.csv', header=True)"
   ],
   "metadata": {
    "collapsed": false
   }
  }
 ],
 "metadata": {
  "kernelspec": {
   "name": "python3",
   "language": "python",
   "display_name": "Python 3 (ipykernel)"
  },
  "language_info": {
   "codemirror_mode": {
    "name": "ipython",
    "version": 2
   },
   "file_extension": ".py",
   "mimetype": "text/x-python",
   "name": "python",
   "nbconvert_exporter": "python",
   "pygments_lexer": "ipython2",
   "version": "2.7.6"
  }
 },
 "nbformat": 4,
 "nbformat_minor": 0
}
